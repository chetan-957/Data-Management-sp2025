{
  "nbformat": 4,
  "nbformat_minor": 0,
  "metadata": {
    "colab": {
      "provenance": [],
      "authorship_tag": "ABX9TyOKohWmFKzjR4DocPl8Ou2b",
      "include_colab_link": true
    },
    "kernelspec": {
      "name": "python3",
      "display_name": "Python 3"
    },
    "language_info": {
      "name": "python"
    }
  },
  "cells": [
    {
      "cell_type": "markdown",
      "metadata": {
        "id": "view-in-github",
        "colab_type": "text"
      },
      "source": [
        "<a href=\"https://colab.research.google.com/github/chetan-957/Data-Management-sp2025/blob/main/ps0.ipynb\" target=\"_parent\"><img src=\"https://colab.research.google.com/assets/colab-badge.svg\" alt=\"Open In Colab\"/></a>"
      ]
    },
    {
      "cell_type": "markdown",
      "source": [
        "### **1️⃣ Load & Inspect Datasets**"
      ],
      "metadata": {
        "id": "Vyefhdt5YN-R"
      }
    },
    {
      "cell_type": "code",
      "source": [
        "import gdown\n",
        "import pandas as pd\n",
        "\n",
        "# Google Drive file ID\n",
        "file_id = \"1QB05L0xO9XE6l-U5NQNrAkWsUPxOZpF_\"\n",
        "\n",
        "# Direct download URL\n",
        "download_url = f\"https://drive.google.com/uc?id={file_id}\"\n",
        "\n",
        "# Define output file name\n",
        "output_file = \"FoodBalanceSheets_E_All_Data.csv\"\n",
        "\n",
        "# Download the file\n",
        "gdown.download(download_url, output_file, quiet=False)\n",
        "\n",
        "# Load CSV\n",
        "faostat_df = pd.read_csv(output_file, encoding=\"latin1\")\n",
        "\n",
        "# Display sample data\n",
        "print(\"FAOSTAT Data Sample:\\n\", faostat_df.head())\n"
      ],
      "metadata": {
        "colab": {
          "base_uri": "https://localhost:8080/"
        },
        "id": "ZrJtMFz2YSkd",
        "outputId": "b51c6df0-d936-42b8-8bae-e9c6bd42c474"
      },
      "execution_count": 14,
      "outputs": [
        {
          "output_type": "stream",
          "name": "stderr",
          "text": [
            "Downloading...\n",
            "From (original): https://drive.google.com/uc?id=1QB05L0xO9XE6l-U5NQNrAkWsUPxOZpF_\n",
            "From (redirected): https://drive.google.com/uc?id=1QB05L0xO9XE6l-U5NQNrAkWsUPxOZpF_&confirm=t&uuid=b07dbf87-7141-4a21-88e4-8a3bf65ccacc\n",
            "To: /content/FoodBalanceSheets_E_All_Data.csv\n",
            "100%|██████████| 119M/119M [00:00<00:00, 159MB/s]\n"
          ]
        },
        {
          "output_type": "stream",
          "name": "stdout",
          "text": [
            "FAOSTAT Data Sample:\n",
            "    Area Code Area Code (M49)         Area  Item Code Item Code (FBS)  \\\n",
            "0          2            '004  Afghanistan       2501          'S2501   \n",
            "1          2            '004  Afghanistan       2901          'S2901   \n",
            "2          2            '004  Afghanistan       2901          'S2901   \n",
            "3          2            '004  Afghanistan       2901          'S2901   \n",
            "4          2            '004  Afghanistan       2901          'S2901   \n",
            "\n",
            "          Item  Element Code                                 Element  \\\n",
            "0   Population           511           Total Population - Both sexes   \n",
            "1  Grand Total           664           Food supply (kcal/capita/day)   \n",
            "2  Grand Total           661                      Food supply (kcal)   \n",
            "3  Grand Total           674  Protein supply quantity (g/capita/day)   \n",
            "4  Grand Total           671             Protein supply quantity (t)   \n",
            "\n",
            "           Unit        Y2010  ... Y2019N        Y2020  Y2020F Y2020N  \\\n",
            "0       1000 No     28189.67  ...    NaN     38972.23       X    NaN   \n",
            "1    kcal/cap/d      2208.00  ...    NaN      2266.00       E    NaN   \n",
            "2  million Kcal  22714261.33  ...    NaN  32236668.33       E    NaN   \n",
            "3       g/cap/d        65.76  ...    NaN        63.37       E    NaN   \n",
            "4             t    676666.08  ...    NaN    901465.91       E    NaN   \n",
            "\n",
            "         Y2021  Y2021F Y2021N        Y2022  Y2022F Y2022N  \n",
            "0     40099.46       X    NaN     41128.77       X    NaN  \n",
            "1      2240.00       E    NaN      2243.00       E    NaN  \n",
            "2  32780360.22       E    NaN  33679315.09       E    NaN  \n",
            "3        61.22       E    NaN        61.03       E    NaN  \n",
            "4    895962.82       E    NaN    916131.81       E    NaN  \n",
            "\n",
            "[5 rows x 48 columns]\n"
          ]
        }
      ]
    },
    {
      "cell_type": "code",
      "source": [
        "import pandas as pd\n",
        "\n",
        "# GitHub Raw File Link\n",
        "github_url = \"https://raw.githubusercontent.com/chetan-957/Data-Management-sp2025/main/P_Data_Extract_From_World_Development_Indicators.xlsx\"\n",
        "\n",
        "# Load WDI Excel file directly from GitHub\n",
        "wdi_df = pd.read_excel(github_url, sheet_name=\"Data\")\n",
        "\n",
        "# Display sample data\n",
        "print(\"WDI Data Sample:\\n\", wdi_df.head())\n"
      ],
      "metadata": {
        "colab": {
          "base_uri": "https://localhost:8080/"
        },
        "id": "8rZmjzUvYdWi",
        "outputId": "a3a8edb7-c7ba-4e0b-a88f-0fef8c791823"
      },
      "execution_count": 15,
      "outputs": [
        {
          "output_type": "stream",
          "name": "stdout",
          "text": [
            "WDI Data Sample:\n",
            "   Country Name Country Code  \\\n",
            "0  Afghanistan          AFG   \n",
            "1  Afghanistan          AFG   \n",
            "2  Afghanistan          AFG   \n",
            "3  Afghanistan          AFG   \n",
            "4  Afghanistan          AFG   \n",
            "\n",
            "                                         Series Name     Series Code  \\\n",
            "0                       GDP per capita (current US$)  NY.GDP.PCAP.CD   \n",
            "1         GNI per capita, Atlas method (current US$)  NY.GNP.PCAP.CD   \n",
            "2                                         Gini index     SI.POV.GINI   \n",
            "3  Poverty headcount ratio at national poverty li...     SI.POV.NAHC   \n",
            "4  Poverty headcount ratio at $2.15 a day (2017 P...     SI.POV.DDAY   \n",
            "\n",
            "  1980 [YR1980] 1981 [YR1981] 1982 [YR1982] 1983 [YR1983] 1984 [YR1984]  \\\n",
            "0            ..            ..            ..            ..            ..   \n",
            "1            ..            ..            ..            ..            ..   \n",
            "2            ..            ..            ..            ..            ..   \n",
            "3            ..            ..            ..            ..            ..   \n",
            "4            ..            ..            ..            ..            ..   \n",
            "\n",
            "  1985 [YR1985]  ... 2014 [YR2014] 2015 [YR2015] 2016 [YR2016] 2017 [YR2017]  \\\n",
            "0            ..  ...    625.054942     565.56973    522.082216    525.469771   \n",
            "1            ..  ...           640           590           560           530   \n",
            "2            ..  ...            ..            ..            ..            ..   \n",
            "3            ..  ...            ..            ..          54.5            ..   \n",
            "4            ..  ...            ..            ..            ..            ..   \n",
            "\n",
            "  2018 [YR2018] 2019 [YR2019] 2020 [YR2020] 2021 [YR2021] 2022 [YR2022]  \\\n",
            "0    491.337221    496.602504    510.787063    356.496214    357.261153   \n",
            "1           520           520           490           380           370   \n",
            "2            ..            ..            ..            ..            ..   \n",
            "3            ..            ..            ..            ..            ..   \n",
            "4            ..            ..            ..            ..            ..   \n",
            "\n",
            "  2023 [YR2023]  \n",
            "0    415.707417  \n",
            "1           380  \n",
            "2            ..  \n",
            "3            ..  \n",
            "4            ..  \n",
            "\n",
            "[5 rows x 48 columns]\n"
          ]
        }
      ]
    },
    {
      "cell_type": "markdown",
      "source": [
        "### **2️⃣ Extract Relevant Columns**"
      ],
      "metadata": {
        "id": "CG7Z032KYjgZ"
      }
    },
    {
      "cell_type": "code",
      "source": [
        "# Select only relevant elements from FAOSTAT\n",
        "faostat_selected_elements = [\n",
        "    \"Food supply (kcal/capita/day)\", \"Food supply quantity (kg/capita/yr)\",\n",
        "    \"Protein supply quantity (g/capita/day)\", \"Fat supply quantity (g/capita/day)\",\n",
        "    \"Production (tonnes)\", \"Import Quantity (tonnes)\", \"Export Quantity (tonnes)\",\n",
        "    \"Stock Variation (tonnes)\", \"Domestic supply quantity (tonnes)\", \"Losses (tonnes)\"\n",
        "]\n",
        "\n",
        "# Filter FAOSTAT dataset\n",
        "faostat_filtered = faostat_df[faostat_df[\"Element\"].isin(faostat_selected_elements)]\n",
        "faostat_filtered = faostat_filtered[[\"Area\", \"Item\", \"Element\"] + [col for col in faostat_df.columns if col.startswith(\"Y\")]]\n",
        "faostat_filtered = faostat_filtered.rename(columns={\"Area\": \"Country\", \"Item\": \"Food Category\", \"Element\": \"Metric\"})\n",
        "\n",
        "# Extract relevant indicators from WDI\n",
        "wdi_selected_indicators = [\"NY.GDP.PCAP.CD\", \"NY.GNP.PCAP.CD\", \"SI.POV.GINI\", \"NE.TRD.GNFS.ZS\"]\n",
        "\n",
        "wdi_filtered = wdi_df[wdi_df[\"Series Code\"].isin(wdi_selected_indicators)]\n",
        "wdi_filtered = wdi_filtered.rename(columns={\"Country Name\": \"Country\", \"Series Name\": \"Indicator\"})\n",
        "\n",
        "# Clean year columns (remove \" [YRxxxx]\" format)\n",
        "wdi_filtered.columns = [col.split(\" [YR\")[0] if \" [YR\" in col else col for col in wdi_filtered.columns]\n"
      ],
      "metadata": {
        "id": "4uFam9uBYpN-"
      },
      "execution_count": 16,
      "outputs": []
    },
    {
      "cell_type": "markdown",
      "source": [
        "### **3️⃣ Handle Missing Data**"
      ],
      "metadata": {
        "id": "dItdHbAFYtws"
      }
    },
    {
      "cell_type": "code",
      "source": [
        "# Drop metadata columns (e.g., \"Y2010F\", \"Y2010N\") from FAOSTAT\n",
        "faostat_filtered = faostat_filtered[[col for col in faostat_filtered.columns if not col.endswith((\"F\", \"N\"))]]\n",
        "\n",
        "# Convert year columns to numeric in FAOSTAT\n",
        "year_cols_fao = [col for col in faostat_filtered.columns if col.startswith(\"Y\")]\n",
        "faostat_filtered[year_cols_fao] = faostat_filtered[year_cols_fao].apply(pd.to_numeric, errors='coerce')\n",
        "\n",
        "# Replace \"..\" in WDI dataset with NaN and convert year columns to numeric\n",
        "wdi_filtered.replace(\"..\", pd.NA, inplace=True)\n",
        "year_cols_wdi = [col for col in wdi_filtered.columns if col.isdigit()]\n",
        "wdi_filtered[year_cols_wdi] = wdi_filtered[year_cols_wdi].apply(pd.to_numeric, errors='coerce')\n",
        "\n",
        "# Check missing data summary\n",
        "print(\"FAOSTAT Missing Data Summary:\\n\", faostat_filtered.isnull().sum())\n",
        "print(\"WDI Missing Data Summary:\\n\", wdi_filtered.isnull().sum())\n"
      ],
      "metadata": {
        "colab": {
          "base_uri": "https://localhost:8080/"
        },
        "id": "xadgb9O3Y0W2",
        "outputId": "20502c53-069b-4bb3-e9de-35e3894ae712"
      },
      "execution_count": 17,
      "outputs": [
        {
          "output_type": "stream",
          "name": "stdout",
          "text": [
            "FAOSTAT Missing Data Summary:\n",
            " Country             0\n",
            "Food Category       0\n",
            "Metric              0\n",
            "Y2010            8589\n",
            "Y2011            8651\n",
            "Y2012            8090\n",
            "Y2013            8058\n",
            "Y2014            6383\n",
            "Y2015            6357\n",
            "Y2016            6334\n",
            "Y2017            6046\n",
            "Y2018            6160\n",
            "Y2019            2526\n",
            "Y2020            2034\n",
            "Y2021            1901\n",
            "Y2022            1911\n",
            "dtype: int64\n",
            "WDI Missing Data Summary:\n",
            " Country           0\n",
            "Country Code      0\n",
            "Indicator         0\n",
            "Series Code       0\n",
            "1980            437\n",
            "1981            430\n",
            "1982            426\n",
            "1983            422\n",
            "1984            416\n",
            "1985            408\n",
            "1986            402\n",
            "1987            389\n",
            "1988            394\n",
            "1989            382\n",
            "1990            343\n",
            "1991            340\n",
            "1992            306\n",
            "1993            311\n",
            "1994            305\n",
            "1995            278\n",
            "1996            279\n",
            "1997            280\n",
            "1998            266\n",
            "1999            272\n",
            "2000            254\n",
            "2001            265\n",
            "2002            236\n",
            "2003            233\n",
            "2004            222\n",
            "2005            213\n",
            "2006            210\n",
            "2007            217\n",
            "2008            208\n",
            "2009            201\n",
            "2010            194\n",
            "2011            195\n",
            "2012            192\n",
            "2013            200\n",
            "2014            189\n",
            "2015            187\n",
            "2016            194\n",
            "2017            196\n",
            "2018            184\n",
            "2019            199\n",
            "2020            213\n",
            "2021            208\n",
            "2022            257\n",
            "2023            323\n",
            "dtype: int64\n"
          ]
        },
        {
          "output_type": "stream",
          "name": "stderr",
          "text": [
            "<ipython-input-17-ea4de75a252a>:6: SettingWithCopyWarning: \n",
            "A value is trying to be set on a copy of a slice from a DataFrame.\n",
            "Try using .loc[row_indexer,col_indexer] = value instead\n",
            "\n",
            "See the caveats in the documentation: https://pandas.pydata.org/pandas-docs/stable/user_guide/indexing.html#returning-a-view-versus-a-copy\n",
            "  faostat_filtered[year_cols_fao] = faostat_filtered[year_cols_fao].apply(pd.to_numeric, errors='coerce')\n"
          ]
        }
      ]
    },
    {
      "cell_type": "markdown",
      "source": [
        "### **4️⃣ Standardize Country Names**"
      ],
      "metadata": {
        "id": "mbFOqAxfZFCf"
      }
    },
    {
      "cell_type": "code",
      "source": [
        "# Dictionary for FAOSTAT to WDI country name mapping\n",
        "country_name_mapping = {\n",
        "    \"Bolivia (Plurinational State of)\": \"Bolivia\", \"Iran (Islamic Republic of)\": \"Iran\",\n",
        "    \"United Republic of Tanzania\": \"Tanzania\", \"Venezuela (Bolivarian Republic of)\": \"Venezuela\",\n",
        "    \"Republic of Korea\": \"Korea, Rep.\", \"Democratic People's Republic of Korea\": \"Korea, Dem. People's Rep.\",\n",
        "    \"United States of America\": \"United States\", \"TÃ¼rkiye\": \"Turkey\",\n",
        "    \"Democratic Republic of the Congo\": \"Congo, Dem. Rep.\", \"Congo\": \"Congo, Rep.\",\n",
        "    \"CÃ´te d'Ivoire\": \"Côte d'Ivoire\", \"Iran\": \"Iran, Islamic Rep.\", \"Turkey\": \"Turkiye\",\n",
        "    \"Venezuela\": \"Venezuela, RB\"\n",
        "}\n",
        "\n",
        "# Apply the mapping\n",
        "faostat_filtered[\"Country\"] = faostat_filtered[\"Country\"].replace(country_name_mapping)\n",
        "\n",
        "# Remove non-country regions from FAOSTAT dataset\n",
        "non_countries = {\"Africa\", \"Asia\", \"Europe\", \"World\", \"Land Locked Developing Countries\", \"Small Island Developing States\"}\n",
        "faostat_filtered = faostat_filtered[~faostat_filtered[\"Country\"].isin(non_countries)]\n"
      ],
      "metadata": {
        "id": "O2c_dQPoZUrj"
      },
      "execution_count": 18,
      "outputs": []
    },
    {
      "cell_type": "markdown",
      "source": [
        "### **5️⃣ Merge FAOSTAT & WDI Data**"
      ],
      "metadata": {
        "id": "FHm-RIYnZgYo"
      }
    },
    {
      "cell_type": "code",
      "source": [
        "# Identify valid year columns (only numeric values)\n",
        "year_cols_wdi = [col for col in wdi_filtered.columns if col.isdigit()]\n",
        "\n",
        "# Keep only relevant columns in WDI (Country, Indicator, Series Code, and Year Columns)\n",
        "wdi_filtered = wdi_filtered[[\"Country\", \"Indicator\", \"Series Code\"] + year_cols_wdi]\n",
        "\n",
        "# Convert \"Year\" column names to integers\n",
        "wdi_long = wdi_filtered.melt(id_vars=[\"Country\", \"Indicator\", \"Series Code\"],\n",
        "                              var_name=\"Year\", value_name=\"Value\")\n",
        "\n",
        "# ✅ Remove any remaining non-numeric values in the Year column\n",
        "wdi_long = wdi_long[wdi_long[\"Year\"].str.isnumeric()]\n",
        "\n",
        "# Convert \"Year\" column to integer type\n",
        "wdi_long[\"Year\"] = wdi_long[\"Year\"].astype(int)\n",
        "\n",
        "# Merge datasets on Country & Year\n",
        "merged_data = faostat_long.merge(wdi_long, on=[\"Country\", \"Year\"], how=\"inner\")\n",
        "\n",
        "# Save merged dataset as CSV\n",
        "merged_data.to_csv(\"Merged_FAOSTAT_WDI.csv\", index=False)\n",
        "\n",
        "# Display merged dataset sample\n",
        "print(\"Merged Dataset Sample:\\n\", merged_data.head())\n"
      ],
      "metadata": {
        "colab": {
          "base_uri": "https://localhost:8080/"
        },
        "id": "XVfjYckkZtcU",
        "outputId": "f472c136-00ed-4c96-dc2a-e5e1d22abc1a"
      },
      "execution_count": 20,
      "outputs": [
        {
          "output_type": "stream",
          "name": "stdout",
          "text": [
            "Merged Dataset Sample:\n",
            "        Country Food Category                                  Metric  Year  \\\n",
            "0  Afghanistan   Grand Total           Food supply (kcal/capita/day)  2010   \n",
            "1  Afghanistan   Grand Total           Food supply (kcal/capita/day)  2010   \n",
            "2  Afghanistan   Grand Total           Food supply (kcal/capita/day)  2010   \n",
            "3  Afghanistan   Grand Total           Food supply (kcal/capita/day)  2010   \n",
            "4  Afghanistan   Grand Total  Protein supply quantity (g/capita/day)  2010   \n",
            "\n",
            "   Value_x                                   Indicator     Series Code  \\\n",
            "0  2208.00                GDP per capita (current US$)  NY.GDP.PCAP.CD   \n",
            "1  2208.00  GNI per capita, Atlas method (current US$)  NY.GNP.PCAP.CD   \n",
            "2  2208.00                                  Gini index     SI.POV.GINI   \n",
            "3  2208.00                            Trade (% of GDP)  NE.TRD.GNFS.ZS   \n",
            "4    65.76                GDP per capita (current US$)  NY.GDP.PCAP.CD   \n",
            "\n",
            "      Value_y  \n",
            "0  560.621505  \n",
            "1  530.000000  \n",
            "2         NaN  \n",
            "3         NaN  \n",
            "4  560.621505  \n"
          ]
        }
      ]
    }
  ]
}